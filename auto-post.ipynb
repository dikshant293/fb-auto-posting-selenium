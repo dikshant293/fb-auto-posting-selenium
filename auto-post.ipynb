{
 "cells": [
  {
   "cell_type": "code",
   "execution_count": 1,
   "metadata": {},
   "outputs": [],
   "source": [
    "from selenium import webdriver\n",
    "from selenium.webdriver.common.by import By\n",
    "from selenium.webdriver.common.keys import Keys\n",
    "import time\n",
    "from time import sleep"
   ]
  },
  {
   "cell_type": "code",
   "execution_count": 2,
   "metadata": {},
   "outputs": [],
   "source": [
    "message = '''\"The true battle is between Fiat and Crypto. On balance, I support the latter.\"\n",
    "   --- Elon Musk\n",
    "Business Club, IIT Kharagpur proudly presents to you, a golden opportunity to interact with the co-founder of Cases Over Coffee, Mr. Akshat Shrivastava!\n",
    "Mr. Shrivastava completed his MBA from INSEAD and has worked for esteemed firms like BCG and Dalberg. He is passionate about teaching and has formally taught English, GMAT and Management Consulting Case Solving to many students over the years. Several of his students have landed at the world's leading universities such as Harvard, INSEAD, Wharton, MIT, Columbia.\n",
    "We are sure that this webinar will provide useful insights into the fast-expanding world of cryptocurrency. \n",
    "Registration link - https://forms.gle/d4UHdPFJjF5sYPFNA\n",
    "Date and time - 5 pm, 6th June 2021, Sunday'''"
   ]
  },
  {
   "cell_type": "code",
   "execution_count": 7,
   "metadata": {},
   "outputs": [],
   "source": [
    "# enter group id of facebook group to post in (you must be a member of it) eg facebook.com/groups/6969696969\n",
    "facebook_group_ids = [1040965393101191,831686071091515]\n",
    "\n",
    "# Set up Facebook login account name and password\n",
    "account = \"superdpsingh123@gmail.com\"\n",
    "password = \"dikshant2000\"\n",
    "\n",
    "# Set up Facebook groups to post, you must be a member of the group\n",
    "groups_links_list = [\n",
    "    \"https://mbasic.facebook.com/groups/\"+str(ids) for ids in facebook_group_ids\n",
    "]\n",
    "\n",
    "# www_link = \"https://www.facebook.com/groups/\"+str(facebook_group_id)\n",
    "\n",
    "# Set up text content to post\n",
    "# message = \"Automated message with nice image ;) gg\"\n",
    "\n",
    "# Set up paths of images to post\n",
    "images_list = [r'C:\\Users\\diksh\\Downloads\\bclub-photo.jpg']\n",
    "\n",
    "# Login Facebook\n",
    "chrome_options = webdriver.ChromeOptions()\n",
    "prefs = {\"profile.default_content_setting_values.notifications\" : 2}\n",
    "chrome_options.add_experimental_option(\"prefs\",prefs)\n",
    "driver = webdriver.Chrome(options=chrome_options)\n",
    "driver.get('https://www.facebook.com')\n",
    "emailelement = driver.find_element(By.XPATH,'//*[@id=\"email\"]')\n",
    "emailelement.send_keys(account)\n",
    "passelement = driver.find_element(By.XPATH,'//*[@id=\"pass\"]')\n",
    "passelement.send_keys(password)\n",
    "emailelement.submit()\n",
    "\n",
    "# Post on each group\n",
    "for group in groups_links_list:\n",
    "    time.sleep(2)\n",
    "    driver.get(group)\n",
    "    time.sleep(2)\n",
    "    try:\n",
    "        driver.find_element(By.XPATH,'//*[@label=\"Start Discussion\"]').click()\n",
    "        post_box=driver.find_element_by_css_selector(\"[name='xc_message']\")\n",
    "    except:\n",
    "        post_box=driver.find_element_by_css_selector(\"[name='xc_message']\")\n",
    "    post_box.send_keys(message)\n",
    "    time.sleep(1)\n",
    "    driver.find_element_by_name('view_photo').click()\n",
    "    for photo in images_list:\n",
    "#         photo_element = driver.find_element(By.XPATH,'//input[@type=\"file\"]')\n",
    "        photo_element = driver.find_element_by_css_selector(\"[name='file1']\")\n",
    "        photo_element.send_keys(photo)\n",
    "        time.sleep(1)\n",
    "    time.sleep(1)\n",
    "    driver.find_element_by_name('add_photo_done').click()\n",
    "#     post_button = driver.find_element_by_xpath(\"//*[@data-testid='react-composer-post-button']\")\n",
    "    post_button = driver.find_element_by_css_selector(\"[name='view_post']\")\n",
    "    clickable = False\n",
    "#     while not clickable:\n",
    "#         cursor = post_button.find_element_by_tag_name('span').value_of_css_property(\"cursor\")\n",
    "#         if cursor == \"pointer\":\n",
    "#             clickable = True\n",
    "#         break\n",
    "    post_button.click()\n",
    "    time.sleep(1)\n",
    "#     driver.get(\"https://www.facebook.com/groups/\"+str(facebook_group_id))\n",
    "#     time.sleep(5)\n",
    "# # Close driver\n",
    "# driver.close()\n"
   ]
  },
  {
   "cell_type": "code",
   "execution_count": null,
   "metadata": {},
   "outputs": [],
   "source": []
  }
 ],
 "metadata": {
  "kernelspec": {
   "display_name": "Python 3",
   "language": "python",
   "name": "python3"
  },
  "language_info": {
   "codemirror_mode": {
    "name": "ipython",
    "version": 3
   },
   "file_extension": ".py",
   "mimetype": "text/x-python",
   "name": "python",
   "nbconvert_exporter": "python",
   "pygments_lexer": "ipython3",
   "version": "3.9.4"
  }
 },
 "nbformat": 4,
 "nbformat_minor": 4
}
